{
  "nbformat": 4,
  "nbformat_minor": 0,
  "metadata": {
    "colab": {
      "name": "Tweets_Analysis.ipynb",
      "provenance": [],
      "collapsed_sections": [],
      "toc_visible": true
    },
    "kernelspec": {
      "name": "python3",
      "display_name": "Python 3"
    }
  },
  "cells": [
    {
      "cell_type": "code",
      "metadata": {
        "id": "EW0iDQKleHvQ",
        "colab_type": "code",
        "colab": {}
      },
      "source": [
        "import re\n",
        "\n",
        "import nltk\n",
        "import warnings\n",
        "import pandas as pd\n",
        "import numpy as np\n",
        "from wordcloud import WordCloud\n",
        "import matplotlib.pyplot as plt\n",
        "\n",
        "from nltk.tokenize import word_tokenize\n",
        "from sklearn.feature_extraction.text import TfidfVectorizer\n",
        "from nltk.sentiment.vader import SentimentIntensityAnalyzer\n",
        "\n",
        "\n",
        "warnings.filterwarnings(\"ignore\")"
      ],
      "execution_count": null,
      "outputs": []
    },
    {
      "cell_type": "code",
      "metadata": {
        "id": "mNpjGOUR8x43",
        "colab_type": "code",
        "colab": {}
      },
      "source": [
        "%%capture\n",
        "!pip install goslate;\n",
        "!pip install langdetect;"
      ],
      "execution_count": null,
      "outputs": []
    },
    {
      "cell_type": "code",
      "metadata": {
        "id": "WG_DJLaBg83d",
        "colab_type": "code",
        "colab": {}
      },
      "source": [
        "%%capture\n",
        "nltk.download('stopwords')\n",
        "nltk.download('punkt')\n",
        "nltk.download('vader_lexicon')\n",
        "from nltk.corpus import stopwords\n",
        "stopwords = stopwords.words('english')"
      ],
      "execution_count": null,
      "outputs": []
    },
    {
      "cell_type": "code",
      "metadata": {
        "id": "q4i0I0qTe1cn",
        "colab_type": "code",
        "colab": {}
      },
      "source": [
        "data = pd.read_csv(\"Tweets_data.csv\")"
      ],
      "execution_count": null,
      "outputs": []
    },
    {
      "cell_type": "code",
      "metadata": {
        "id": "4gFa5WVxe6yr",
        "colab_type": "code",
        "colab": {}
      },
      "source": [
        "df = data.copy()"
      ],
      "execution_count": null,
      "outputs": []
    },
    {
      "cell_type": "code",
      "metadata": {
        "id": "wxn_p_U4e91q",
        "colab_type": "code",
        "colab": {}
      },
      "source": [
        "#df.head()"
      ],
      "execution_count": null,
      "outputs": []
    },
    {
      "cell_type": "code",
      "metadata": {
        "id": "rA2UM1TIe_Fz",
        "colab_type": "code",
        "colab": {}
      },
      "source": [
        "lower = []\n",
        "for r in df.full_text:\n",
        "  lower.append(r.lower())"
      ],
      "execution_count": null,
      "outputs": []
    },
    {
      "cell_type": "code",
      "metadata": {
        "id": "sB-2BuIlfHgy",
        "colab_type": "code",
        "colab": {}
      },
      "source": [
        "df.full_text = lower"
      ],
      "execution_count": null,
      "outputs": []
    },
    {
      "cell_type": "code",
      "metadata": {
        "id": "8oIZDJ51MUDe",
        "colab_type": "code",
        "colab": {}
      },
      "source": [
        "ori = pd.read_csv('dropped.csv')"
      ],
      "execution_count": null,
      "outputs": []
    },
    {
      "cell_type": "code",
      "metadata": {
        "id": "zW0X-wh_bzU3",
        "colab_type": "code",
        "colab": {}
      },
      "source": [
        "ori.shape"
      ],
      "execution_count": null,
      "outputs": []
    },
    {
      "cell_type": "code",
      "metadata": {
        "id": "nV8E7HyBMO1Q",
        "colab_type": "code",
        "colab": {}
      },
      "source": [
        "df['Original_Tweets'] = ori['full_text']"
      ],
      "execution_count": null,
      "outputs": []
    },
    {
      "cell_type": "code",
      "metadata": {
        "id": "qSl4vYxNTyQM",
        "colab_type": "code",
        "colab": {}
      },
      "source": [
        "new_df = df.copy()\n",
        "new_df.drop_duplicates(subset=\"full_text\",keep=\"first\")"
      ],
      "execution_count": null,
      "outputs": []
    },
    {
      "cell_type": "code",
      "metadata": {
        "id": "ODk6UEyGOKIp",
        "colab_type": "code",
        "colab": {}
      },
      "source": [
        "df.to_csv(\"ori_data.csv\")"
      ],
      "execution_count": null,
      "outputs": []
    },
    {
      "cell_type": "code",
      "metadata": {
        "id": "kO43sOx-fJXU",
        "colab_type": "code",
        "colab": {
          "base_uri": "https://localhost:8080/",
          "height": 34
        },
        "outputId": "e716fbf0-4e52-41a7-8905-787feb411944"
      },
      "source": [
        "df.shape"
      ],
      "execution_count": null,
      "outputs": [
        {
          "output_type": "execute_result",
          "data": {
            "text/plain": [
              "(34999, 7)"
            ]
          },
          "metadata": {
            "tags": []
          },
          "execution_count": 10
        }
      ]
    },
    {
      "cell_type": "code",
      "metadata": {
        "id": "wYeOUw2GgTnM",
        "colab_type": "code",
        "colab": {}
      },
      "source": [
        "test = \"\"\n",
        "for r in df.full_text:\n",
        "  test += str(r)"
      ],
      "execution_count": null,
      "outputs": []
    },
    {
      "cell_type": "code",
      "metadata": {
        "id": "IcYBsSwUmq9w",
        "colab_type": "code",
        "colab": {}
      },
      "source": [
        "tweets = pd.DataFrame()\n",
        "tweets['tweets'] = test"
      ],
      "execution_count": null,
      "outputs": []
    },
    {
      "cell_type": "code",
      "metadata": {
        "id": "eHNo0b-GyFGV",
        "colab_type": "code",
        "colab": {}
      },
      "source": [
        "tweets.to_csv('tweets.csv')"
      ],
      "execution_count": null,
      "outputs": []
    },
    {
      "cell_type": "code",
      "metadata": {
        "id": "T92IwHwcyFMe",
        "colab_type": "code",
        "colab": {}
      },
      "source": [
        ""
      ],
      "execution_count": null,
      "outputs": []
    },
    {
      "cell_type": "markdown",
      "metadata": {
        "id": "elJ-VDRQjTNI",
        "colab_type": "text"
      },
      "source": [
        "# New section"
      ]
    },
    {
      "cell_type": "code",
      "metadata": {
        "id": "R1Y4Qc3EhXiy",
        "colab_type": "code",
        "colab": {}
      },
      "source": [
        "tokenize = word_tokenize(test,'english')"
      ],
      "execution_count": null,
      "outputs": []
    },
    {
      "cell_type": "code",
      "metadata": {
        "id": "pEklZhnYhYca",
        "colab_type": "code",
        "colab": {}
      },
      "source": [
        "final_words = []\n",
        "for word in tokenize:\n",
        "  if word not in stopwords:\n",
        "    final_words.append(word)"
      ],
      "execution_count": null,
      "outputs": []
    },
    {
      "cell_type": "code",
      "metadata": {
        "id": "MXCXHBkEGrIv",
        "colab_type": "code",
        "colab": {}
      },
      "source": [
        "vec = TfidfVectorizer(min_df=30)\n",
        "trans = vec.fit_transform(lower)"
      ],
      "execution_count": null,
      "outputs": []
    },
    {
      "cell_type": "code",
      "metadata": {
        "id": "fOAogHMYCT_b",
        "colab_type": "code",
        "colab": {}
      },
      "source": [
        "a = vec.get_feature_names()\n",
        "a = [a_ for a_ in a if a_ not in stopwords]"
      ],
      "execution_count": null,
      "outputs": []
    },
    {
      "cell_type": "code",
      "metadata": {
        "id": "Oif-Cv0wDOgi",
        "colab_type": "code",
        "colab": {
          "base_uri": "https://localhost:8080/",
          "height": 1000
        },
        "outputId": "f94863d8-46e9-4e90-eae4-c624a5b9eb8f"
      },
      "source": [
        "a"
      ],
      "execution_count": null,
      "outputs": [
        {
          "output_type": "execute_result",
          "data": {
            "text/plain": [
              "['aari',\n",
              " 'ab',\n",
              " 'abandons',\n",
              " 'abc',\n",
              " 'abdul',\n",
              " 'able',\n",
              " 'absolutely',\n",
              " 'abuse',\n",
              " 'abysmal',\n",
              " 'accel',\n",
              " 'accelerating',\n",
              " 'accept',\n",
              " 'access',\n",
              " 'accident',\n",
              " 'according',\n",
              " 'account',\n",
              " 'accounts',\n",
              " 'across',\n",
              " 'act',\n",
              " 'acting',\n",
              " 'action',\n",
              " 'active',\n",
              " 'activists',\n",
              " 'actors',\n",
              " 'actorvijay',\n",
              " 'actual',\n",
              " 'actually',\n",
              " 'add',\n",
              " 'addiction',\n",
              " 'addo',\n",
              " 'address',\n",
              " 'adgpi',\n",
              " 'adhd',\n",
              " 'administration',\n",
              " 'administrator',\n",
              " 'admitted',\n",
              " 'adopted',\n",
              " 'adopts',\n",
              " 'advance',\n",
              " 'advice',\n",
              " 'affect',\n",
              " 'affected',\n",
              " 'afford',\n",
              " 'afp',\n",
              " 'afraid',\n",
              " 'africa',\n",
              " 'african',\n",
              " 'agar',\n",
              " 'age',\n",
              " 'agency',\n",
              " 'agenda',\n",
              " 'agent',\n",
              " 'ago',\n",
              " 'agree',\n",
              " 'ahead',\n",
              " 'ahgqzgsz',\n",
              " 'ai',\n",
              " 'aid',\n",
              " 'aids',\n",
              " 'air',\n",
              " 'ajenglish',\n",
              " 'akbar',\n",
              " 'akshaysharmaorg',\n",
              " 'aktu',\n",
              " 'al',\n",
              " 'alcohol',\n",
              " 'alert',\n",
              " 'alive',\n",
              " 'allah',\n",
              " 'allow',\n",
              " 'allowed',\n",
              " 'allowing',\n",
              " 'almost',\n",
              " 'alone',\n",
              " 'along',\n",
              " 'already',\n",
              " 'also',\n",
              " 'although',\n",
              " 'always',\n",
              " 'amar',\n",
              " 'amazing',\n",
              " 'america',\n",
              " 'american',\n",
              " 'americans',\n",
              " 'amid',\n",
              " 'amidst',\n",
              " 'amitshah',\n",
              " 'among',\n",
              " 'amount',\n",
              " 'amp',\n",
              " 'analysis',\n",
              " 'ancient',\n",
              " 'andrew',\n",
              " 'ang',\n",
              " 'angers',\n",
              " 'animal',\n",
              " 'animals',\n",
              " 'announce',\n",
              " 'announced',\n",
              " 'announcement',\n",
              " 'another',\n",
              " 'ansel',\n",
              " 'answer',\n",
              " 'anthony',\n",
              " 'anti',\n",
              " 'antibodies',\n",
              " 'antiviral',\n",
              " 'anybody',\n",
              " 'anymore',\n",
              " 'anyone',\n",
              " 'anything',\n",
              " 'anytime',\n",
              " 'anyway',\n",
              " 'aoc',\n",
              " 'ap',\n",
              " 'app',\n",
              " 'apparently',\n",
              " 'approved',\n",
              " 'april',\n",
              " 'area',\n",
              " 'areas',\n",
              " 'arena',\n",
              " 'arguably',\n",
              " 'argue',\n",
              " 'argument',\n",
              " 'arizona',\n",
              " 'arm',\n",
              " 'army',\n",
              " 'around',\n",
              " 'arrested',\n",
              " 'arsenal',\n",
              " 'art',\n",
              " 'article',\n",
              " 'ask',\n",
              " 'asked',\n",
              " 'asking',\n",
              " 'ass',\n",
              " 'assault',\n",
              " 'assessed',\n",
              " 'assistance',\n",
              " 'astrazeneca',\n",
              " 'asymptomatic',\n",
              " 'athlete',\n",
              " 'attack',\n",
              " 'attacked',\n",
              " 'attacking',\n",
              " 'attacks',\n",
              " 'attempt',\n",
              " 'attend',\n",
              " 'attendance',\n",
              " 'attention',\n",
              " 'australia',\n",
              " 'authoritarian',\n",
              " 'authorities',\n",
              " 'authority',\n",
              " 'autumn',\n",
              " 'available',\n",
              " 'aware',\n",
              " 'away',\n",
              " 'babies',\n",
              " 'baby',\n",
              " 'back',\n",
              " 'backdrops',\n",
              " 'bad',\n",
              " 'badly',\n",
              " 'ban',\n",
              " 'bangladesh',\n",
              " 'barr',\n",
              " 'barsa',\n",
              " 'based',\n",
              " 'basically',\n",
              " 'basis',\n",
              " 'battle',\n",
              " 'bbc',\n",
              " 'bc',\n",
              " 'beat',\n",
              " 'beaten',\n",
              " 'became',\n",
              " 'become',\n",
              " 'becomes',\n",
              " 'becoming',\n",
              " 'begins',\n",
              " 'behavior',\n",
              " 'behind',\n",
              " 'beingsalmankhan',\n",
              " 'belief',\n",
              " 'beliefs',\n",
              " 'believe',\n",
              " 'believes',\n",
              " 'belong',\n",
              " 'belts',\n",
              " 'bengal',\n",
              " 'bent',\n",
              " 'berman',\n",
              " 'best',\n",
              " 'bet',\n",
              " 'better',\n",
              " 'beyond',\n",
              " 'bhai',\n",
              " 'bhakt',\n",
              " 'bhi',\n",
              " 'biden',\n",
              " 'big',\n",
              " 'biggest',\n",
              " 'bigot',\n",
              " 'bill',\n",
              " 'billion',\n",
              " 'billions',\n",
              " 'biological',\n",
              " 'birth',\n",
              " 'birthday',\n",
              " 'bit',\n",
              " 'bitch',\n",
              " 'bjp',\n",
              " 'black',\n",
              " 'blame',\n",
              " 'bleach',\n",
              " 'blm',\n",
              " 'block',\n",
              " 'blocked',\n",
              " 'blood',\n",
              " 'blue',\n",
              " 'board',\n",
              " 'boards',\n",
              " 'body',\n",
              " 'bollywood',\n",
              " 'book',\n",
              " 'books',\n",
              " 'border',\n",
              " 'bored',\n",
              " 'born',\n",
              " 'bothered',\n",
              " 'bout',\n",
              " 'boy',\n",
              " 'boys',\n",
              " 'brain',\n",
              " 'brazil',\n",
              " 'brazilian',\n",
              " 'break',\n",
              " 'breaking',\n",
              " 'breakthrough',\n",
              " 'brewer',\n",
              " 'bring',\n",
              " 'bringing',\n",
              " 'brings',\n",
              " 'britain',\n",
              " 'british',\n",
              " 'bro',\n",
              " 'brother',\n",
              " 'brothers',\n",
              " 'brought',\n",
              " 'brown',\n",
              " 'bsf',\n",
              " 'btw',\n",
              " 'build',\n",
              " 'building',\n",
              " 'bullshit',\n",
              " 'bunch',\n",
              " 'burden',\n",
              " 'business',\n",
              " 'businesses',\n",
              " 'busy',\n",
              " 'buy',\n",
              " 'ca',\n",
              " 'call',\n",
              " 'called',\n",
              " 'calling',\n",
              " 'calls',\n",
              " 'came',\n",
              " 'campaign',\n",
              " 'cancel',\n",
              " 'cancelaktuexams',\n",
              " 'cancelled',\n",
              " 'cancer',\n",
              " 'candidates',\n",
              " 'cannot',\n",
              " 'cant',\n",
              " 'capital',\n",
              " 'car',\n",
              " 'care',\n",
              " 'cares',\n",
              " 'case',\n",
              " 'cases',\n",
              " 'caste',\n",
              " 'cat',\n",
              " 'catastrophic',\n",
              " 'catch',\n",
              " 'caught',\n",
              " 'cause',\n",
              " 'caused',\n",
              " 'causes',\n",
              " 'causing',\n",
              " 'cbse',\n",
              " 'cbseindia',\n",
              " 'cdc',\n",
              " 'celebrate',\n",
              " 'celebrating',\n",
              " 'celebration',\n",
              " 'celebrity',\n",
              " 'center',\n",
              " 'centers',\n",
              " 'centre',\n",
              " 'centres',\n",
              " 'ceo',\n",
              " 'certain',\n",
              " 'challenges',\n",
              " 'chance',\n",
              " 'chang',\n",
              " 'change',\n",
              " 'changed',\n",
              " 'channel',\n",
              " 'chaotic',\n",
              " 'character',\n",
              " 'charge',\n",
              " 'cheap',\n",
              " 'check',\n",
              " 'checked',\n",
              " 'chief',\n",
              " 'child',\n",
              " 'children',\n",
              " 'china',\n",
              " 'chinavirus',\n",
              " 'chinese',\n",
              " 'choice',\n",
              " 'choose',\n",
              " 'chooses',\n",
              " 'christian',\n",
              " 'christianity',\n",
              " 'christians',\n",
              " 'church',\n",
              " 'cia',\n",
              " 'cities',\n",
              " 'citizens',\n",
              " 'city',\n",
              " 'claim',\n",
              " 'claimed',\n",
              " 'claiming',\n",
              " 'claims',\n",
              " 'class',\n",
              " 'classifies',\n",
              " 'clean',\n",
              " 'clear',\n",
              " 'clearly',\n",
              " 'climate',\n",
              " 'clinical',\n",
              " 'close',\n",
              " 'closed',\n",
              " 'closer',\n",
              " 'club',\n",
              " 'cm',\n",
              " 'cnn',\n",
              " 'cnni',\n",
              " 'co',\n",
              " 'cold',\n",
              " 'college',\n",
              " 'colonialquay',\n",
              " 'color',\n",
              " 'com',\n",
              " 'come',\n",
              " 'comes',\n",
              " 'coming',\n",
              " 'comment',\n",
              " 'comments',\n",
              " 'commission',\n",
              " 'common',\n",
              " 'communist',\n",
              " 'communities',\n",
              " 'community',\n",
              " 'companies',\n",
              " 'company',\n",
              " 'complete',\n",
              " 'completely',\n",
              " 'composed',\n",
              " 'concentrate',\n",
              " 'concentration',\n",
              " 'concern',\n",
              " 'concerned',\n",
              " 'concerns',\n",
              " 'concert',\n",
              " 'conditions',\n",
              " 'conduct',\n",
              " 'conducted',\n",
              " 'conducting',\n",
              " 'confirmed',\n",
              " 'conflict',\n",
              " 'conflicts',\n",
              " 'confused',\n",
              " 'congress',\n",
              " 'connect',\n",
              " 'conservative',\n",
              " 'consider',\n",
              " 'considered',\n",
              " 'conspiracy',\n",
              " 'contact',\n",
              " 'continue',\n",
              " 'continues',\n",
              " 'continuously',\n",
              " 'contribution',\n",
              " 'control',\n",
              " 'convalescence',\n",
              " 'convert',\n",
              " 'converted',\n",
              " 'cool',\n",
              " 'cops',\n",
              " 'cor',\n",
              " 'coro',\n",
              " 'coron',\n",
              " 'corona',\n",
              " 'coronaandmafia',\n",
              " 'coronavirus',\n",
              " 'correct',\n",
              " 'corrupt',\n",
              " 'corruption',\n",
              " 'cost',\n",
              " 'could',\n",
              " 'count',\n",
              " 'countries',\n",
              " 'country',\n",
              " 'county',\n",
              " 'couple',\n",
              " 'course',\n",
              " 'court',\n",
              " 'cousin',\n",
              " 'cov',\n",
              " 'cover',\n",
              " 'covid',\n",
              " 'cow',\n",
              " 'crazy',\n",
              " 'create',\n",
              " 'created',\n",
              " 'creates',\n",
              " 'credence',\n",
              " 'creepy',\n",
              " 'crime',\n",
              " 'crippled',\n",
              " 'crisis',\n",
              " 'critical',\n",
              " 'crore',\n",
              " 'cross',\n",
              " 'crowd',\n",
              " 'crush',\n",
              " 'cu',\n",
              " 'cult',\n",
              " 'culture',\n",
              " 'cure',\n",
              " 'cured',\n",
              " 'current',\n",
              " 'currently',\n",
              " 'cut',\n",
              " 'cv',\n",
              " 'cyril',\n",
              " 'dad',\n",
              " 'dads',\n",
              " 'daily',\n",
              " 'damage',\n",
              " 'damn',\n",
              " 'danger',\n",
              " 'dangerous',\n",
              " 'data',\n",
              " 'date',\n",
              " 'daughter',\n",
              " 'day',\n",
              " 'days',\n",
              " 'dbt',\n",
              " 'de',\n",
              " 'dead',\n",
              " 'deadly',\n",
              " 'deaf',\n",
              " 'deal',\n",
              " 'dear',\n",
              " 'death',\n",
              " 'deaths',\n",
              " 'decide',\n",
              " 'decided',\n",
              " 'decision',\n",
              " 'declared',\n",
              " 'declares',\n",
              " 'deep',\n",
              " 'deeply',\n",
              " 'defeat',\n",
              " 'define',\n",
              " 'definitely',\n",
              " 'defund',\n",
              " 'defundnpr',\n",
              " 'degree',\n",
              " 'delay',\n",
              " 'delhi',\n",
              " 'demand',\n",
              " 'demands',\n",
              " 'democracy',\n",
              " 'democrat',\n",
              " 'democratic',\n",
              " 'democrats',\n",
              " 'denying',\n",
              " 'department',\n",
              " 'depends',\n",
              " 'depression',\n",
              " 'desperate',\n",
              " 'despite',\n",
              " 'destroy',\n",
              " 'destroyed',\n",
              " 'devastating',\n",
              " 'develop',\n",
              " 'developed',\n",
              " 'developing',\n",
              " 'development',\n",
              " 'dexamethasone',\n",
              " 'dg',\n",
              " 'didnt',\n",
              " 'die',\n",
              " 'died',\n",
              " 'difference',\n",
              " 'different',\n",
              " 'difficult',\n",
              " 'difficulties',\n",
              " 'digital',\n",
              " 'dimitrov',\n",
              " 'direction',\n",
              " 'directions',\n",
              " 'directly',\n",
              " 'director',\n",
              " 'dirty',\n",
              " 'discovered',\n",
              " 'discrimination',\n",
              " 'discuss',\n",
              " 'discussion',\n",
              " 'disease',\n",
              " 'diseases',\n",
              " 'dislike',\n",
              " 'distance',\n",
              " 'distancing',\n",
              " 'district',\n",
              " 'djokovic',\n",
              " 'dm',\n",
              " 'doctor',\n",
              " 'doctors',\n",
              " 'doesnt',\n",
              " 'dog',\n",
              " 'dollars',\n",
              " 'donald',\n",
              " 'done',\n",
              " 'donors',\n",
              " 'dont',\n",
              " 'doubt',\n",
              " 'dr',\n",
              " 'dream',\n",
              " 'drink',\n",
              " 'drinking',\n",
              " 'dropped',\n",
              " 'drrpnishank',\n",
              " 'drug',\n",
              " 'drugs',\n",
              " 'dsivygz',\n",
              " 'dud',\n",
              " 'dude',\n",
              " 'due',\n",
              " 'dumb',\n",
              " 'duterte',\n",
              " 'dying',\n",
              " 'earlier',\n",
              " 'early',\n",
              " 'earth',\n",
              " 'easily',\n",
              " 'east',\n",
              " 'easy',\n",
              " 'eat',\n",
              " 'eating',\n",
              " 'eclipse',\n",
              " 'economic',\n",
              " 'economically',\n",
              " 'economy',\n",
              " 'education',\n",
              " 'effect',\n",
              " 'effective',\n",
              " 'effects',\n",
              " 'effort',\n",
              " 'efforts',\n",
              " 'egregious',\n",
              " 'egypt',\n",
              " 'either',\n",
              " 'elderly',\n",
              " 'election',\n",
              " 'elections',\n",
              " 'elephant',\n",
              " 'elgort',\n",
              " 'elizabeth',\n",
              " 'ellie',\n",
              " 'else',\n",
              " 'emergency',\n",
              " 'employees',\n",
              " 'empty',\n",
              " 'en',\n",
              " 'encourages',\n",
              " 'end',\n",
              " 'endiathreattopeace',\n",
              " 'energy',\n",
              " 'enforcetrafficlaws',\n",
              " 'english',\n",
              " 'enjoy',\n",
              " 'enough',\n",
              " 'ensure',\n",
              " 'entire',\n",
              " 'envisage',\n",
              " 'epidemic',\n",
              " 'eq',\n",
              " 'equal',\n",
              " 'equipment',\n",
              " 'era',\n",
              " 'especially',\n",
              " 'essential',\n",
              " 'etc',\n",
              " 'eu',\n",
              " 'eugenics',\n",
              " 'europarl',\n",
              " 'europe',\n",
              " 'even',\n",
              " 'event',\n",
              " 'events',\n",
              " 'ever',\n",
              " 'every',\n",
              " 'everybody',\n",
              " 'everyday',\n",
              " 'everyone',\n",
              " 'everything',\n",
              " 'everywhere',\n",
              " 'evidence',\n",
              " 'evil',\n",
              " 'ex',\n",
              " 'exactly',\n",
              " 'exam',\n",
              " 'examination',\n",
              " 'examinations',\n",
              " 'example',\n",
              " 'exams',\n",
              " 'except',\n",
              " 'excited',\n",
              " 'excuse',\n",
              " 'exist',\n",
              " 'existence',\n",
              " 'exists',\n",
              " 'exiting',\n",
              " 'expect',\n",
              " 'expected',\n",
              " 'expensive',\n",
              " 'experiements',\n",
              " 'experience',\n",
              " 'expert',\n",
              " 'experts',\n",
              " 'explain',\n",
              " 'exponentially',\n",
              " 'exposed',\n",
              " 'exposing',\n",
              " 'eyes',\n",
              " 'fabiflu',\n",
              " 'face',\n",
              " 'facing',\n",
              " 'fact',\n",
              " 'facts',\n",
              " 'failed',\n",
              " 'failure',\n",
              " 'faith',\n",
              " 'fake',\n",
              " 'fall',\n",
              " 'fallen',\n",
              " 'false',\n",
              " 'falter',\n",
              " 'families',\n",
              " 'family',\n",
              " 'fan',\n",
              " 'fans',\n",
              " 'far',\n",
              " 'fascist',\n",
              " 'fast',\n",
              " 'father',\n",
              " 'fathers',\n",
              " 'fauci',\n",
              " 'faulty',\n",
              " 'favorite',\n",
              " 'fear',\n",
              " 'february',\n",
              " 'federal',\n",
              " 'feel',\n",
              " 'feeling',\n",
              " 'felt',\n",
              " 'fertility',\n",
              " 'fever',\n",
              " 'field',\n",
              " 'figh',\n",
              " 'fight',\n",
              " 'fighting',\n",
              " 'figure',\n",
              " 'files',\n",
              " 'fill',\n",
              " 'filled',\n",
              " 'film',\n",
              " 'final',\n",
              " 'finally',\n",
              " 'financial',\n",
              " 'financially',\n",
              " 'find',\n",
              " 'finding',\n",
              " 'finds',\n",
              " 'fine',\n",
              " 'fire',\n",
              " 'fired',\n",
              " 'first',\n",
              " 'fit',\n",
              " 'five',\n",
              " 'flats',\n",
              " 'florida',\n",
              " 'floyd',\n",
              " 'flu',\n",
              " 'fo',\n",
              " 'focus',\n",
              " 'folk',\n",
              " 'folks',\n",
              " 'follo',\n",
              " 'follow',\n",
              " 'followed',\n",
              " 'followers',\n",
              " 'following',\n",
              " 'followsopssavelives',\n",
              " 'food',\n",
              " 'football',\n",
              " 'force',\n",
              " 'forced',\n",
              " 'forces',\n",
              " 'forcing',\n",
              " 'foreign',\n",
              " 'forever',\n",
              " 'forget',\n",
              " 'forgets',\n",
              " 'form',\n",
              " 'formed',\n",
              " 'former',\n",
              " 'forward',\n",
              " 'fought',\n",
              " 'found',\n",
              " 'four',\n",
              " 'fox',\n",
              " 'foxnews',\n",
              " 'frame',\n",
              " 'france',\n",
              " 'fraud',\n",
              " 'free',\n",
              " 'freedom',\n",
              " 'friday',\n",
              " 'friend',\n",
              " 'friends',\n",
              " 'front',\n",
              " 'fuck',\n",
              " 'fucked',\n",
              " 'fucking',\n",
              " 'full',\n",
              " 'fun',\n",
              " 'fund',\n",
              " 'funded',\n",
              " 'funding',\n",
              " 'funds',\n",
              " 'funny',\n",
              " 'future',\n",
              " 'fyi',\n",
              " 'game',\n",
              " 'games',\n",
              " 'gandhi',\n",
              " 'gangster',\n",
              " 'garbage',\n",
              " 'gates',\n",
              " 'gave',\n",
              " 'gay',\n",
              " 'gender',\n",
              " 'general',\n",
              " 'generic',\n",
              " 'genetically',\n",
              " 'genuinely',\n",
              " 'george',\n",
              " 'german',\n",
              " 'germany',\n",
              " 'get',\n",
              " 'gets',\n",
              " 'gett',\n",
              " 'getting',\n",
              " 'ghana',\n",
              " 'girl',\n",
              " 'girls',\n",
              " 'give',\n",
              " 'given',\n",
              " 'gives',\n",
              " 'giving',\n",
              " 'glenmark',\n",
              " 'globa',\n",
              " 'global',\n",
              " 'globally',\n",
              " 'globaltimesnews',\n",
              " 'go',\n",
              " 'goal',\n",
              " 'god',\n",
              " 'godde',\n",
              " 'goddess',\n",
              " 'gods',\n",
              " 'goes',\n",
              " 'gofundme',\n",
              " 'goi',\n",
              " 'going',\n",
              " 'gone',\n",
              " 'gonna',\n",
              " 'good',\n",
              " 'gordon',\n",
              " 'got',\n",
              " 'gotta',\n",
              " 'gov',\n",
              " 'government',\n",
              " 'governments',\n",
              " 'govt',\n",
              " 'great',\n",
              " 'group',\n",
              " 'groups',\n",
              " 'grow',\n",
              " 'gt',\n",
              " 'guess',\n",
              " 'guidelines',\n",
              " 'guy',\n",
              " 'guys',\n",
              " 'gwr',\n",
              " 'ha',\n",
              " 'hafsa',\n",
              " 'hai',\n",
              " 'half',\n",
              " 'hancock',\n",
              " 'hand',\n",
              " 'hands',\n",
              " 'happen',\n",
              " 'happened',\n",
              " 'happening',\n",
              " 'happens',\n",
              " 'happy',\n",
              " 'hard',\n",
              " 'harm',\n",
              " 'hate',\n",
              " 'haywire',\n",
              " 'hbdthalapathyvijay',\n",
              " 'hcq',\n",
              " 'hea',\n",
              " 'head',\n",
              " 'headline',\n",
              " 'heal',\n",
              " 'health',\n",
              " 'healthcare',\n",
              " 'healthy',\n",
              " 'hear',\n",
              " 'heard',\n",
              " 'heart',\n",
              " 'helen',\n",
              " 'hell',\n",
              " 'help',\n",
              " 'helped',\n",
              " 'helping',\n",
              " 'helps',\n",
              " 'hence',\n",
              " 'henceforth',\n",
              " 'herd',\n",
              " 'hero',\n",
              " 'hey',\n",
              " 'hi',\n",
              " 'hide',\n",
              " 'high',\n",
              " 'highest',\n",
              " 'highly',\n",
              " 'highway',\n",
              " 'hindi',\n",
              " 'hindu',\n",
              " 'hinduism',\n",
              " 'hindus',\n",
              " 'hire',\n",
              " 'history',\n",
              " 'hit',\n",
              " 'hiv',\n",
              " 'hmoindia',\n",
              " 'ho',\n",
              " 'hoax',\n",
              " 'hold',\n",
              " 'holding',\n",
              " 'home',\n",
              " 'homes',\n",
              " 'honestly',\n",
              " 'hope',\n",
              " 'hopeful',\n",
              " 'hopefully',\n",
              " 'hospital',\n",
              " 'hospitals',\n",
              " 'hot',\n",
              " 'hour',\n",
              " 'hours',\n",
              " 'house',\n",
              " 'however',\n",
              " 'hrdministry',\n",
              " 'https',\n",
              " 'hub',\n",
              " 'huge',\n",
              " 'huhuhu',\n",
              " 'human',\n",
              " 'humanitarian',\n",
              " 'humanity',\n",
              " 'humans',\n",
              " 'hundred',\n",
              " 'hundreds',\n",
              " 'hurt',\n",
              " 'hydroxychloroquine',\n",
              " 'hypocrisy',\n",
              " 'ia',\n",
              " 'iaf',\n",
              " 'icu',\n",
              " 'id',\n",
              " 'idea',\n",
              " 'identity',\n",
              " 'idiot',\n",
              " 'idiots',\n",
              " 'idk',\n",
              " 'ignorant',\n",
              " 'ill',\n",
              " 'illness',\n",
              " 'im',\n",
              " 'imagine',\n",
              " 'immediate',\n",
              " 'immune',\n",
              " 'immunity',\n",
              " 'impact',\n",
              " 'impacted',\n",
              " 'impeachment',\n",
              " 'implicitly',\n",
              " 'important',\n",
              " 'inc',\n",
              " 'include',\n",
              " 'including',\n",
              " 'inconsid',\n",
              " 'inconsiderate',\n",
              " 'increase',\n",
              " 'increasing',\n",
              " 'indeed',\n",
              " 'india',\n",
              " 'indian',\n",
              " 'indians',\n",
              " 'industry',\n",
              " 'infants',\n",
              " 'infected',\n",
              " 'infection',\n",
              " 'infections',\n",
              " 'infectious',\n",
              " 'info',\n",
              " 'information',\n",
              " 'injustice',\n",
              " 'innocent',\n",
              " 'innovation',\n",
              " 'inside',\n",
              " 'instead',\n",
              " 'institute',\n",
              " 'insult',\n",
              " 'intense',\n",
              " 'interest',\n",
              " 'interested',\n",
              " 'interesting',\n",
              " 'internal',\n",
              " 'international',\n",
              " 'investigation',\n",
              " 'inviting',\n",
              " 'involved',\n",
              " 'iraq',\n",
              " 'ireland',\n",
              " 'islam',\n",
              " 'islamic',\n",
              " 'isolation',\n",
              " 'israel',\n",
              " 'israeli',\n",
              " 'issue',\n",
              " 'issues',\n",
              " 'italian',\n",
              " 'jagah',\n",
              " 'japan',\n",
              " 'jee',\n",
              " 'jesus',\n",
              " 'jewish',\n",
              " 'ji',\n",
              " 'jihadi',\n",
              " 'job',\n",
              " 'jobs',\n",
              " 'joe',\n",
              " 'joebiden',\n",
              " 'joel',\n",
              " 'john',\n",
              " 'join',\n",
              " 'joke',\n",
              " 'jokers',\n",
              " 'journalism',\n",
              " 'judge',\n",
              " 'july',\n",
              " 'june',\n",
              " 'justice',\n",
              " 'justin',\n",
              " 'ka',\n",
              " 'kanjwal',\n",
              " ...]"
            ]
          },
          "metadata": {
            "tags": []
          },
          "execution_count": 37
        }
      ]
    },
    {
      "cell_type": "code",
      "metadata": {
        "id": "KDmC6L8LDx7y",
        "colab_type": "code",
        "colab": {
          "base_uri": "https://localhost:8080/",
          "height": 504
        },
        "outputId": "28847097-1966-443b-eac0-ce1f1e7fa753"
      },
      "source": [
        "wordcloud = WordCloud(width = 800, height = 800, \n",
        "                background_color ='white', \n",
        "                stopwords = stopwords, \n",
        "                min_font_size = 10).generate(\" \".join(a))\n",
        "plt.figure(figsize=(15,8))\n",
        "plt.imshow(wordcloud)"
      ],
      "execution_count": null,
      "outputs": [
        {
          "output_type": "execute_result",
          "data": {
            "text/plain": [
              "<matplotlib.image.AxesImage at 0x7fdd43056160>"
            ]
          },
          "metadata": {
            "tags": []
          },
          "execution_count": 44
        },
        {
          "output_type": "display_data",
          "data": {
            "image/png": "[encoded data removed]",
            "text/plain": [
              "<Figure size 1080x576 with 1 Axes>"
            ]
          },
          "metadata": {
            "tags": [],
            "needs_background": "light"
          }
        }
      ]
    },
    {
      "cell_type": "code",
      "metadata": {
        "id": "KZ7knoSjibiR",
        "colab_type": "code",
        "colab": {}
      },
      "source": [
        "def analyzer(words):\n",
        "  scores = SentimentIntensityAnalyzer().polarity_scores(words)\n",
        "  pos = scores['pos']\n",
        "  neg = scores['neg']\n",
        "  \n",
        "  if(pos>neg):\n",
        "    return \"Positive\"\n",
        "  elif(pos<neg):\n",
        "    return \"Negative\"\n",
        "  else:\n",
        "    return \"Neutral\""
      ],
      "execution_count": null,
      "outputs": []
    },
    {
      "cell_type": "code",
      "metadata": {
        "id": "62YReEHhjtSz",
        "colab_type": "code",
        "colab": {}
      },
      "source": [
        "sentiment = []\n",
        "for r in lower:\n",
        "  sentiment.append(analyzer(r))"
      ],
      "execution_count": null,
      "outputs": []
    },
    {
      "cell_type": "code",
      "metadata": {
        "id": "ERR3rBfDkCZY",
        "colab_type": "code",
        "colab": {}
      },
      "source": [
        "sentiment_df = df.copy()\n",
        "sentiment_df['sentiment'] = np.array(sentiment)\n",
        "sentiment_df['original'] = ori['full_text']"
      ],
      "execution_count": null,
      "outputs": []
    },
    {
      "cell_type": "code",
      "metadata": {
        "id": "hj1AIaWtlav4",
        "colab_type": "code",
        "colab": {}
      },
      "source": [
        "sentiment_df.to_csv(\"sentiments.csv\")"
      ],
      "execution_count": null,
      "outputs": []
    },
    {
      "cell_type": "markdown",
      "metadata": {
        "id": "CdTCD8Vm1ktA",
        "colab_type": "text"
      },
      "source": [
        "# Filtering Locations"
      ]
    },
    {
      "cell_type": "code",
      "metadata": {
        "id": "x_TjvYP_lmW_",
        "colab_type": "code",
        "colab": {}
      },
      "source": [
        "locations = pd.read_csv(\"location.csv\")"
      ],
      "execution_count": null,
      "outputs": []
    },
    {
      "cell_type": "code",
      "metadata": {
        "id": "55nNvCDw1uzk",
        "colab_type": "code",
        "colab": {}
      },
      "source": [
        "locations = locations.drop(\"Unnamed: 0\", axis=1)"
      ],
      "execution_count": null,
      "outputs": []
    },
    {
      "cell_type": "code",
      "metadata": {
        "id": "tRUX7H0Q1x5z",
        "colab_type": "code",
        "colab": {}
      },
      "source": [
        "loc_ = locations.Location.to_list()"
      ],
      "execution_count": null,
      "outputs": []
    },
    {
      "cell_type": "code",
      "metadata": {
        "id": "a488GzLoHyl0",
        "colab_type": "code",
        "colab": {}
      },
      "source": [
        "# loc_"
      ],
      "execution_count": null,
      "outputs": []
    },
    {
      "cell_type": "code",
      "metadata": {
        "id": "ThauGmrJ2I76",
        "colab_type": "code",
        "colab": {}
      },
      "source": [
        "# for r in loc_:\n",
        "#   r = r.split(\",\")"
      ],
      "execution_count": null,
      "outputs": []
    },
    {
      "cell_type": "code",
      "metadata": {
        "id": "qj0hwT0I2LLu",
        "colab_type": "code",
        "colab": {}
      },
      "source": [
        "#loc_[0:100]"
      ],
      "execution_count": null,
      "outputs": []
    },
    {
      "cell_type": "code",
      "metadata": {
        "id": "owW8_-XQ2k89",
        "colab_type": "code",
        "colab": {}
      },
      "source": [
        "import goslate"
      ],
      "execution_count": null,
      "outputs": []
    },
    {
      "cell_type": "code",
      "metadata": {
        "id": "n_PXCrd-8oet",
        "colab_type": "code",
        "colab": {}
      },
      "source": [
        "gs = goslate.Goslate()"
      ],
      "execution_count": null,
      "outputs": []
    },
    {
      "cell_type": "code",
      "metadata": {
        "id": "_Lh7L1Wy-i3S",
        "colab_type": "code",
        "colab": {
          "base_uri": "https://localhost:8080/",
          "height": 34
        },
        "outputId": "cf667d47-fac0-4347-e283-edc57e3df664"
      },
      "source": [
        "print(gs.translate(\"carpe diem\",'en'))"
      ],
      "execution_count": null,
      "outputs": [
        {
          "output_type": "stream",
          "text": [
            "carpe diem\n"
          ],
          "name": "stdout"
        }
      ]
    },
    {
      "cell_type": "code",
      "metadata": {
        "id": "ixL6XlGgDC13",
        "colab_type": "code",
        "colab": {}
      },
      "source": [
        "def detect_language(place):\n",
        "  from langdetect import detect\n",
        "  return detect(place)"
      ],
      "execution_count": null,
      "outputs": []
    },
    {
      "cell_type": "code",
      "metadata": {
        "id": "e8FRBwY6DSeu",
        "colab_type": "code",
        "colab": {}
      },
      "source": [
        "def convert_to_en(place,lang):\n",
        "  import goslate\n",
        "  gs = goslate.Goslate()\n",
        "  conv = gs.translate(place,lang,'en')\n",
        "  return conv"
      ],
      "execution_count": null,
      "outputs": []
    },
    {
      "cell_type": "code",
      "metadata": {
        "id": "q2-mMUjl_o_9",
        "colab_type": "code",
        "colab": {}
      },
      "source": [
        "places = []\n",
        "for r_ in loc_:\n",
        "  place = re.split(\"[,|]\",r_)\n",
        "  if(place[0] == r_):\n",
        "    #lang = detect_language(r_)\n",
        "    # if(lang!='en'):\n",
        "    #   r_ = convert_to_en(r_,lang)\n",
        "\n",
        "    places.append(r_)\n",
        "    continue\n",
        "  \n",
        "  for place_ in place:\n",
        "    # if(lang!='en'):\n",
        "      \n",
        "    #   place_ = convert_to_en(place_,lang)\n",
        "      \n",
        "    places.append(place_)  "
      ],
      "execution_count": null,
      "outputs": []
    },
    {
      "cell_type": "code",
      "metadata": {
        "id": "Z1bg-YtV_r6K",
        "colab_type": "code",
        "colab": {}
      },
      "source": [
        "for place in places:\n",
        "  if(place==''):\n",
        "    places.remove(place)\n",
        "  place = place.lower()"
      ],
      "execution_count": null,
      "outputs": []
    },
    {
      "cell_type": "code",
      "metadata": {
        "id": "K2mOIAExAnCT",
        "colab_type": "code",
        "colab": {}
      },
      "source": [
        "raw_place = places\n",
        "places = list(set(places))"
      ],
      "execution_count": null,
      "outputs": []
    },
    {
      "cell_type": "code",
      "metadata": {
        "id": "p_t462_eO-ks",
        "colab_type": "code",
        "colab": {}
      },
      "source": [
        "for i in range(len(places)):\n",
        "  places[i] = places[i].lower()"
      ],
      "execution_count": null,
      "outputs": []
    },
    {
      "cell_type": "code",
      "metadata": {
        "id": "d0-R8671AsgU",
        "colab_type": "code",
        "colab": {}
      },
      "source": [
        "cities = pd.read_excel(\"worldcities.xlsx\")"
      ],
      "execution_count": null,
      "outputs": []
    },
    {
      "cell_type": "code",
      "metadata": {
        "id": "OUzIrLgvM-Dq",
        "colab_type": "code",
        "colab": {}
      },
      "source": [
        "countries = cities.country.to_list()"
      ],
      "execution_count": null,
      "outputs": []
    },
    {
      "cell_type": "code",
      "metadata": {
        "id": "gfg744RFORSz",
        "colab_type": "code",
        "colab": {}
      },
      "source": [
        "for i in range(len(countries)):\n",
        "  countries[i] = countries[i].lower()\n",
        "\n",
        "countries = list(set(countries))"
      ],
      "execution_count": null,
      "outputs": []
    },
    {
      "cell_type": "code",
      "metadata": {
        "id": "DK5P2sBoc0SE",
        "colab_type": "code",
        "colab": {}
      },
      "source": [
        ""
      ],
      "execution_count": null,
      "outputs": []
    },
    {
      "cell_type": "code",
      "metadata": {
        "id": "0JdiUw0Qc9WC",
        "colab_type": "code",
        "colab": {}
      },
      "source": [
        "raw_tweet_countries = []\n",
        "for i in raw_place:\n",
        "  if i.lower() in countries:\n",
        "    raw_tweet_countries.append(i.title())"
      ],
      "execution_count": null,
      "outputs": []
    },
    {
      "cell_type": "code",
      "metadata": {
        "id": "kioZSlJXOWNA",
        "colab_type": "code",
        "colab": {}
      },
      "source": [
        "tweet_countries = []\n",
        "for i in places:\n",
        "  if i.lower() in countries:\n",
        "    tweet_countries.append(i.title())"
      ],
      "execution_count": null,
      "outputs": []
    },
    {
      "cell_type": "code",
      "metadata": {
        "id": "c3MPJIsCOjR5",
        "colab_type": "code",
        "colab": {}
      },
      "source": [
        "world_cities = cities.city_ascii.to_list()\n",
        "for i in range(len(world_cities)):\n",
        "  world_cities[i] = world_cities[i].lower()\n",
        "world_cities = list(set(world_cities))"
      ],
      "execution_count": null,
      "outputs": []
    },
    {
      "cell_type": "code",
      "metadata": {
        "id": "pTHq7qoOPku8",
        "colab_type": "code",
        "colab": {}
      },
      "source": [
        "raw_tweet_cities = []\n",
        "for i in raw_place:\n",
        "  if i.lower() in world_cities:\n",
        "    raw_tweet_cities.append(i.title())"
      ],
      "execution_count": null,
      "outputs": []
    },
    {
      "cell_type": "code",
      "metadata": {
        "id": "vKyRsOfwe56T",
        "colab_type": "code",
        "colab": {}
      },
      "source": [
        "tweet_cities = []\n",
        "for i in places:\n",
        "  if i.lower() in world_cities:\n",
        "    tweet_cities.append(i.title())"
      ],
      "execution_count": null,
      "outputs": []
    },
    {
      "cell_type": "code",
      "metadata": {
        "id": "Y2RMyAXVQGgz",
        "colab_type": "code",
        "colab": {
          "base_uri": "https://localhost:8080/",
          "height": 34
        },
        "outputId": "ae42a5d6-6938-4c3c-a247-a1a78df17628"
      },
      "source": [
        "print(len(tweet_cities),len(raw_tweet_cities))"
      ],
      "execution_count": null,
      "outputs": [
        {
          "output_type": "stream",
          "text": [
            "1454 8326\n"
          ],
          "name": "stdout"
        }
      ]
    },
    {
      "cell_type": "code",
      "metadata": {
        "id": "ju5qXBQEQIh6",
        "colab_type": "code",
        "colab": {
          "base_uri": "https://localhost:8080/",
          "height": 34
        },
        "outputId": "bc26f96d-84e2-4118-ea4f-8fdc1bf49d9f"
      },
      "source": [
        "print(len(tweet_countries),len(raw_tweet_countries))"
      ],
      "execution_count": null,
      "outputs": [
        {
          "output_type": "stream",
          "text": [
            "149 2386\n"
          ],
          "name": "stdout"
        }
      ]
    },
    {
      "cell_type": "code",
      "metadata": {
        "id": "pV6Idt6GSvsp",
        "colab_type": "code",
        "colab": {}
      },
      "source": [
        "tweet_countries_ = pd.DataFrame()\n",
        "tweet_cities_ = pd.DataFrame()\n",
        "raw_tweet_countries_ = pd.DataFrame()\n",
        "raw_tweet_cities_ = pd.DataFrame()"
      ],
      "execution_count": null,
      "outputs": []
    },
    {
      "cell_type": "code",
      "metadata": {
        "id": "gbzfettITGSd",
        "colab_type": "code",
        "colab": {}
      },
      "source": [
        "tweet_countries_['Countries'] = tweet_countries\n",
        "tweet_cities_['Cities'] = tweet_cities"
      ],
      "execution_count": null,
      "outputs": []
    },
    {
      "cell_type": "code",
      "metadata": {
        "id": "xAIUypwJTPGm",
        "colab_type": "code",
        "colab": {}
      },
      "source": [
        "tweet_countries_.to_csv(\"tweet_countries.csv\")\n",
        "tweet_cities_.to_csv(\"tweet_cities.csv\")"
      ],
      "execution_count": null,
      "outputs": []
    },
    {
      "cell_type": "code",
      "metadata": {
        "id": "FDFJ25VRfySq",
        "colab_type": "code",
        "colab": {}
      },
      "source": [
        "raw_tweet_countries_['Countries'] = raw_tweet_countries\n",
        "raw_tweet_cities_['Cities'] = raw_tweet_cities\n",
        "\n",
        "countries_col = raw_tweet_countries_['Countries'].value_counts().index.to_list()\n",
        "countries_col_val = raw_tweet_countries_['Countries'].value_counts().to_list()\n",
        "\n",
        "cities_col = raw_tweet_cities_['Cities'].value_counts().index.to_list()\n",
        "cities_col_val = raw_tweet_cities_['Cities'].value_counts().to_list()"
      ],
      "execution_count": null,
      "outputs": []
    },
    {
      "cell_type": "code",
      "metadata": {
        "id": "W8hoBIrpl4fX",
        "colab_type": "code",
        "colab": {}
      },
      "source": [
        "raw_tweet_countries_ = raw_tweet_countries_.drop('Countries',axis=1)\n",
        "raw_tweet_cities_ = raw_tweet_cities_.drop(\"Cities\",axis=1)"
      ],
      "execution_count": null,
      "outputs": []
    },
    {
      "cell_type": "code",
      "metadata": {
        "id": "8rOTBNbOjnIF",
        "colab_type": "code",
        "colab": {}
      },
      "source": [
        "raw_tweet_countries_ = pd.DataFrame()\n",
        "raw_tweet_cities_ = pd.DataFrame()\n",
        "\n",
        "raw_tweet_countries_['Countries'] = countries_col\n",
        "raw_tweet_countries_['Tweets_Contribution(%)'] = (np.array(countries_col_val)/sum(np.array(countries_col_val)))*100\n",
        "\n",
        "\n",
        "raw_tweet_cities_['Cities'] = cities_col\n",
        "raw_tweet_cities_['Tweets_Contribution(%)'] = (np.array(cities_col_val)/sum(np.array(countries_col_val)))*100"
      ],
      "execution_count": null,
      "outputs": []
    },
    {
      "cell_type": "code",
      "metadata": {
        "id": "teTo9f2jczMt",
        "colab_type": "code",
        "colab": {}
      },
      "source": [
        ""
      ],
      "execution_count": null,
      "outputs": []
    },
    {
      "cell_type": "code",
      "metadata": {
        "id": "gYXn6Aq6cz15",
        "colab_type": "code",
        "colab": {}
      },
      "source": [
        ""
      ],
      "execution_count": null,
      "outputs": []
    },
    {
      "cell_type": "code",
      "metadata": {
        "id": "KAb3x-DNma_P",
        "colab_type": "code",
        "colab": {
          "base_uri": "https://localhost:8080/",
          "height": 34
        },
        "outputId": "516b1023-b681-44f1-f76b-31b787d897c7"
      },
      "source": [
        "raw_tweet_countries_.shape, raw_tweet_cities_.shape"
      ],
      "execution_count": null,
      "outputs": [
        {
          "output_type": "execute_result",
          "data": {
            "text/plain": [
              "((118, 2), (1325, 2))"
            ]
          },
          "metadata": {
            "tags": []
          },
          "execution_count": 212
        }
      ]
    },
    {
      "cell_type": "code",
      "metadata": {
        "id": "EC1XurQ-CCb2",
        "colab_type": "code",
        "colab": {}
      },
      "source": [
        ""
      ],
      "execution_count": null,
      "outputs": []
    },
    {
      "cell_type": "code",
      "metadata": {
        "id": "kxrOFE-ZT0Q4",
        "colab_type": "code",
        "colab": {}
      },
      "source": [
        "raw_tweet_countries_.to_csv(\"raw_tweet_countries.csv\")\n",
        "raw_tweet_cities_.to_csv(\"raw_tweet_cities.csv\")"
      ],
      "execution_count": null,
      "outputs": []
    },
    {
      "cell_type": "code",
      "metadata": {
        "id": "fxt7zleRmp8B",
        "colab_type": "code",
        "colab": {}
      },
      "source": [
        ""
      ],
      "execution_count": null,
      "outputs": []
    }
  ]
}