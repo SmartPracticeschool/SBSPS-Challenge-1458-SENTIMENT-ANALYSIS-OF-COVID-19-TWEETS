{
    "cells": [
        {
            "cell_type": "code",
            "execution_count": 12,
            "metadata": {},
            "outputs": [],
            "source": "# The code was removed by Watson Studio for sharing."
        },
        {
            "cell_type": "code",
            "execution_count": 2,
            "metadata": {},
            "outputs": [
                {
                    "name": "stdout",
                    "output_type": "stream",
                    "text": "Collecting tweepy\n  Downloading https://files.pythonhosted.org/packages/36/1b/2bd38043d22ade352fc3d3902cf30ce0e2f4bf285be3b304a2782a767aec/tweepy-3.8.0-py2.py3-none-any.whl\nCollecting requests-oauthlib>=0.7.0 (from tweepy)\n  Downloading https://files.pythonhosted.org/packages/a3/12/b92740d845ab62ea4edf04d2f4164d82532b5a0b03836d4d4e71c6f3d379/requests_oauthlib-1.3.0-py2.py3-none-any.whl\nRequirement already satisfied: PySocks>=1.5.7 in /opt/conda/envs/Python36/lib/python3.6/site-packages (from tweepy) (1.6.8)\nRequirement already satisfied: requests>=2.11.1 in /opt/conda/envs/Python36/lib/python3.6/site-packages (from tweepy) (2.21.0)\nRequirement already satisfied: six>=1.10.0 in /opt/conda/envs/Python36/lib/python3.6/site-packages (from tweepy) (1.12.0)\nCollecting oauthlib>=3.0.0 (from requests-oauthlib>=0.7.0->tweepy)\n\u001b[?25l  Downloading https://files.pythonhosted.org/packages/05/57/ce2e7a8fa7c0afb54a0581b14a65b56e62b5759dbc98e80627142b8a3704/oauthlib-3.1.0-py2.py3-none-any.whl (147kB)\n\u001b[K     |\u2588\u2588\u2588\u2588\u2588\u2588\u2588\u2588\u2588\u2588\u2588\u2588\u2588\u2588\u2588\u2588\u2588\u2588\u2588\u2588\u2588\u2588\u2588\u2588\u2588\u2588\u2588\u2588\u2588\u2588\u2588\u2588| 153kB 7.9MB/s eta 0:00:01\n\u001b[?25hRequirement already satisfied: chardet<3.1.0,>=3.0.2 in /opt/conda/envs/Python36/lib/python3.6/site-packages (from requests>=2.11.1->tweepy) (3.0.4)\nRequirement already satisfied: urllib3<1.25,>=1.21.1 in /opt/conda/envs/Python36/lib/python3.6/site-packages (from requests>=2.11.1->tweepy) (1.24.1)\nRequirement already satisfied: certifi>=2017.4.17 in /opt/conda/envs/Python36/lib/python3.6/site-packages (from requests>=2.11.1->tweepy) (2020.4.5.1)\nRequirement already satisfied: idna<2.9,>=2.5 in /opt/conda/envs/Python36/lib/python3.6/site-packages (from requests>=2.11.1->tweepy) (2.8)\nInstalling collected packages: oauthlib, requests-oauthlib, tweepy\nSuccessfully installed oauthlib-3.1.0 requests-oauthlib-1.3.0 tweepy-3.8.0\n"
                }
            ],
            "source": "try:\n    import tweepy\nexcept Exception:\n    ! pip install tweepy\n    import tweepy"
        },
        {
            "cell_type": "code",
            "execution_count": null,
            "metadata": {},
            "outputs": [],
            "source": "\n"
        },
        {
            "cell_type": "code",
            "execution_count": 3,
            "metadata": {},
            "outputs": [],
            "source": "OAUTH_KEYS = {'consumer_key':consumer_key, 'consumer_secret':consumer_secret,\n 'access_token_key':access_key, 'access_token_secret':access_secret}\nauth = tweepy.OAuthHandler(OAUTH_KEYS['consumer_key'], OAUTH_KEYS['consumer_secret'])\napi = tweepy.API(auth, wait_on_rate_limit=True, wait_on_rate_limit_notify=True)"
        },
        {
            "cell_type": "markdown",
            "metadata": {},
            "source": "# IMPORTING LIBRARIES"
        },
        {
            "cell_type": "code",
            "execution_count": 4,
            "metadata": {},
            "outputs": [],
            "source": "import pandas as pd\nimport numpy as np\nimport time\nimport json"
        },
        {
            "cell_type": "markdown",
            "metadata": {},
            "source": "# EXTRACTING TWEETS"
        },
        {
            "cell_type": "markdown",
            "metadata": {},
            "source": "## Covid-19"
        },
        {
            "cell_type": "code",
            "execution_count": 5,
            "metadata": {
                "scrolled": true
            },
            "outputs": [
                {
                    "name": "stderr",
                    "output_type": "stream",
                    "text": "Rate limit reached. Sleeping for: 759\n"
                },
                {
                    "name": "stdout",
                    "output_type": "stream",
                    "text": "covid-19\n"
                },
                {
                    "name": "stderr",
                    "output_type": "stream",
                    "text": "Rate limit reached. Sleeping for: 750\n"
                },
                {
                    "name": "stdout",
                    "output_type": "stream",
                    "text": "corona\n"
                }
            ],
            "source": "# it is important to know that we won't be extracting media data from Twitter and hence we will be using 'filters' to filter out media\n# the tweets' topics can be regarded as a query and given in form of a list\n\nfilters = '-filter:media'\nquery_words = ['covid-19','corona']\nfor i in range(len(query_words)):\n    search = tweepy.Cursor(api.search, q = query_words[i]+filters, \n                       tweet_mode = 'extended',\n                       include_rts = True,\n                       lang = \"en\").items(10000) \n    \n    all_data = []\n    for tweet in search:\n        status = tweet\n        all_data.append(tweet._json)     \n\n    \n    project.save_data(data = json.dumps(all_data),file_name = query_words[i]+'_data.json',overwrite = True)    \n    print(query_words[i])\n    time.sleep(1)\n\n# compiling all tweets together\n# project.save_data(data = json.dumps(all_data),file_name = 'corona_retrieved_data1.json',overwrite = True)"
        },
        {
            "cell_type": "code",
            "execution_count": 62,
            "metadata": {},
            "outputs": [],
            "source": "\nbody = client_e61e5cd54c4943d386135128bb93cee8.get_object(Bucket='sentimentanalysisoncovid19tweets-donotdelete-pr-ltfnobw22qpnyw',Key='corona_data.json')['Body']\n# add missing __iter__ method, so pandas accepts body as file-like object \n\nif not hasattr(body, \"__iter__\"): body.__iter__ = types.MethodType( __iter__, body )\n\n# Since JSON data can be semi-structured and contain additional metadata, it is possible that you might face an error during data loading.\n# Please read the documentation of 'pandas.read_json()' and 'pandas.io.json.json_normalize' to learn more about the possibilities to adjust the data loading.\n# pandas documentation: http://pandas.pydata.org/pandas-docs/stable/io.html#io-json-reader\n# and http://pandas.pydata.org/pandas-docs/stable/generated/pandas.io.json.json_normalize.html\n\ndf_data_14 = pd.read_json(body, orient='values')\n# df_data_14.head()\n"
        },
        {
            "cell_type": "code",
            "execution_count": 66,
            "metadata": {},
            "outputs": [],
            "source": "\nbody = client_e61e5cd54c4943d386135128bb93cee8.get_object(Bucket='sentimentanalysisoncovid19tweets-donotdelete-pr-ltfnobw22qpnyw',Key='covid-19_data.json')['Body']\n# add missing __iter__ method, so pandas accepts body as file-like object \n\nif not hasattr(body, \"__iter__\"): body.__iter__ = types.MethodType( __iter__, body )\n\n# Since JSON data can be semi-structured and contain additional metadata, it is possible that you might face an error during data loading.\n# Please read the documentation of 'pandas.read_json()' and 'pandas.io.json.json_normalize' to learn more about the possibilities to adjust the data loading.\n# pandas documentation: http://pandas.pydata.org/pandas-docs/stable/io.html#io-json-reader\n# and http://pandas.pydata.org/pandas-docs/stable/generated/pandas.io.json.json_normalize.html\n\ndf_data_16 = pd.read_json(body, orient='values')\n# df_data_16.head()\n"
        },
        {
            "cell_type": "code",
            "execution_count": 69,
            "metadata": {},
            "outputs": [
                {
                    "data": {
                        "text/plain": "{'file_name': 'covid-19.csv',\n 'message': 'File saved to project storage.',\n 'bucket_name': 'sentimentanalysisoncovid19tweets-donotdelete-pr-ltfnobw22qpnyw',\n 'asset_id': 'a8ecdf9a-a26a-4e33-827b-ab84c0cea096'}"
                    },
                    "execution_count": 69,
                    "metadata": {},
                    "output_type": "execute_result"
                }
            ],
            "source": "project.save_data(file_name = \"corona.csv\",data = df_data_14.to_csv(index=False), overwrite=True)\nproject.save_data(file_name = \"covid-19.csv\",data = df_data_16.to_csv(index=False))"
        },
        {
            "cell_type": "markdown",
            "metadata": {},
            "source": "## Healthcare and Religion"
        },
        {
            "cell_type": "code",
            "execution_count": 33,
            "metadata": {},
            "outputs": [],
            "source": "# # it is important to know that we won't be extracting media data from Twitter and hence we will be using 'filters' to filter out media\n# # the tweets' topics can be regarded as a query and given in form of a list\n\n# filters = '-filter:media'\n# query_words = ['WHO','World Health Organisation','Religion','Hindu Muslim','USAID']\n# for i in range(len(query_words)):\n#     search = tweepy.Cursor(api.search, q = query_words[i]+filters, \n#                        tweet_mode = 'extended',\n#                        include_rts = True,\n#                        lang = \"en\").items(2000) \n    \n#     all_data = []\n#     for tweet in search:\n#         status = tweet\n#         all_data.append(tweet._json)     \n\n    \n#     project.save_data(data = json.dumps(all_data),file_name = query_words[i]+'_data2.json',overwrite = True)    \n#     print(query_words[i])\n#     time.sleep(1)\n\n# # compiling all tweets together\n# project.save_data(data = json.dumps(all_data),file_name = 'corona_retrieved_data2.json',overwrite = True)"
        },
        {
            "cell_type": "code",
            "execution_count": 21,
            "metadata": {},
            "outputs": [
                {
                    "name": "stdout",
                    "output_type": "stream",
                    "text": "covid-19 vaccine\nvaccine\ncovid-19 cure\n"
                },
                {
                    "name": "stderr",
                    "output_type": "stream",
                    "text": "Rate limit reached. Sleeping for: 747\n"
                },
                {
                    "name": "stdout",
                    "output_type": "stream",
                    "text": "cure\nfake news\n"
                },
                {
                    "data": {
                        "text/plain": "{'file_name': 'corona_retrieved_data3.json',\n 'message': 'File saved to project storage.',\n 'bucket_name': 'sentimentanalysisoncovid19tweets-donotdelete-pr-ltfnobw22qpnyw',\n 'asset_id': 'a62963b5-238b-453d-a353-144c0aa0c10c'}"
                    },
                    "execution_count": 21,
                    "metadata": {},
                    "output_type": "execute_result"
                }
            ],
            "source": "# # it is important to know that we won't be extracting media data from Twitter and hence we will be using 'filters' to filter out media\n# # the tweets' topics can be regarded as a query and given in form of a list\n\n# filters = '-filter:media'\n# query_words = ['covid-19 vaccine','vaccine','covid-19 cure','cure', 'fake news']\n# for i in range(len(query_words)):\n#     search = tweepy.Cursor(api.search, q = query_words[i]+filters, \n#                        tweet_mode = 'extended',\n#                        include_rts = True,\n#                        lang = \"en\").items(2000) \n    \n#     all_data = []\n#     for tweet in search:\n#         status = tweet\n#         all_data.append(tweet._json)     \n\n    \n#     project.save_data(data = json.dumps(all_data),file_name = query_words[i]+'_data3.json',overwrite = True)    \n#     print(query_words[i])\n#     time.sleep(1)\n\n# # compiling all tweets together\n# project.save_data(data = json.dumps(all_data),file_name = 'corona_retrieved_data3.json',overwrite = True)"
        },
        {
            "cell_type": "code",
            "execution_count": 30,
            "metadata": {},
            "outputs": [
                {
                    "data": {
                        "text/plain": "(5000, 31)"
                    },
                    "execution_count": 30,
                    "metadata": {},
                    "output_type": "execute_result"
                }
            ],
            "source": ""
        },
        {
            "cell_type": "code",
            "execution_count": 5,
            "metadata": {},
            "outputs": [],
            "source": "# The code was removed by Watson Studio for sharing."
        },
        {
            "cell_type": "code",
            "execution_count": 30,
            "metadata": {},
            "outputs": [
                {
                    "data": {
                        "text/plain": "{'file_name': 'hindu_muslim.csv',\n 'message': 'File saved to project storage.',\n 'bucket_name': 'sentimentanalysisoncovid19tweets-donotdelete-pr-ltfnobw22qpnyw',\n 'asset_id': '691161b9-4025-4324-b6c8-57911d1d5c01'}"
                    },
                    "execution_count": 30,
                    "metadata": {},
                    "output_type": "execute_result"
                }
            ],
            "source": "project.save_data(file_name = \"hindu_muslim.csv\",data = df_data_1.to_csv(index=False))"
        },
        {
            "cell_type": "code",
            "execution_count": 12,
            "metadata": {},
            "outputs": [],
            "source": "\nbody = client_e61e5cd54c4943d386135128bb93cee8.get_object(Bucket='sentimentanalysisoncovid19tweets-donotdelete-pr-ltfnobw22qpnyw',Key='Religion_data2.json')['Body']\n# add missing __iter__ method, so pandas accepts body as file-like object \n\nif not hasattr(body, \"__iter__\"): body.__iter__ = types.MethodType( __iter__, body )\n\n# Since JSON data can be semi-structured and contain additional metadata, it is possible that you might face an error during data loading.\n# Please read the documentation of 'pandas.read_json()' and 'pandas.io.json.json_normalize' to learn more about the possibilities to adjust the data loading.\n# pandas documentation: http://pandas.pydata.org/pandas-docs/stable/io.html#io-json-reader\n# and http://pandas.pydata.org/pandas-docs/stable/generated/pandas.io.json.json_normalize.html\n\ndf_data_2 = pd.read_json(body, orient='values')\n# df_data_2.head()\n"
        },
        {
            "cell_type": "code",
            "execution_count": 31,
            "metadata": {},
            "outputs": [
                {
                    "data": {
                        "text/plain": "{'file_name': 'religion.csv',\n 'message': 'File saved to project storage.',\n 'bucket_name': 'sentimentanalysisoncovid19tweets-donotdelete-pr-ltfnobw22qpnyw',\n 'asset_id': 'e3e98f37-877a-4c35-bb6c-86e4e97310d0'}"
                    },
                    "execution_count": 31,
                    "metadata": {},
                    "output_type": "execute_result"
                }
            ],
            "source": "project.save_data(file_name = \"religion.csv\",data = df_data_2.to_csv(index=False))"
        },
        {
            "cell_type": "code",
            "execution_count": 15,
            "metadata": {},
            "outputs": [],
            "source": "\nbody = client_e61e5cd54c4943d386135128bb93cee8.get_object(Bucket='sentimentanalysisoncovid19tweets-donotdelete-pr-ltfnobw22qpnyw',Key='USAID_data2.json')['Body']\n# add missing __iter__ method, so pandas accepts body as file-like object \n\nif not hasattr(body, \"__iter__\"): body.__iter__ = types.MethodType( __iter__, body )\n\n# Since JSON data can be semi-structured and contain additional metadata, it is possible that you might face an error during data loading.\n# Please read the documentation of 'pandas.read_json()' and 'pandas.io.json.json_normalize' to learn more about the possibilities to adjust the data loading.\n# pandas documentation: http://pandas.pydata.org/pandas-docs/stable/io.html#io-json-reader\n# and http://pandas.pydata.org/pandas-docs/stable/generated/pandas.io.json.json_normalize.html\n\ndf_data_3 = pd.read_json(body, orient='values')\n# df_data_3.head()\n"
        },
        {
            "cell_type": "code",
            "execution_count": 32,
            "metadata": {},
            "outputs": [
                {
                    "data": {
                        "text/plain": "{'file_name': 'USAID.csv',\n 'message': 'File saved to project storage.',\n 'bucket_name': 'sentimentanalysisoncovid19tweets-donotdelete-pr-ltfnobw22qpnyw',\n 'asset_id': '6a422df6-d63e-4740-befc-98e57d9c23b0'}"
                    },
                    "execution_count": 32,
                    "metadata": {},
                    "output_type": "execute_result"
                }
            ],
            "source": "project.save_data(file_name = \"USAID.csv\",data = df_data_3.to_csv(index=False))"
        },
        {
            "cell_type": "code",
            "execution_count": 33,
            "metadata": {},
            "outputs": [],
            "source": "\nbody = client_e61e5cd54c4943d386135128bb93cee8.get_object(Bucket='sentimentanalysisoncovid19tweets-donotdelete-pr-ltfnobw22qpnyw',Key='WHO_data2.json')['Body']\n# add missing __iter__ method, so pandas accepts body as file-like object \n\nif not hasattr(body, \"__iter__\"): body.__iter__ = types.MethodType( __iter__, body )\n\n# Since JSON data can be semi-structured and contain additional metadata, it is possible that you might face an error during data loading.\n# Please read the documentation of 'pandas.read_json()' and 'pandas.io.json.json_normalize' to learn more about the possibilities to adjust the data loading.\n# pandas documentation: http://pandas.pydata.org/pandas-docs/stable/io.html#io-json-reader\n# and http://pandas.pydata.org/pandas-docs/stable/generated/pandas.io.json.json_normalize.html\ndf_data_4 = pd.read_json(body, orient='values')\n# df_data_4.head()\n"
        },
        {
            "cell_type": "code",
            "execution_count": 34,
            "metadata": {},
            "outputs": [
                {
                    "data": {
                        "text/plain": "{'file_name': 'WHO.csv',\n 'message': 'File saved to project storage.',\n 'bucket_name': 'sentimentanalysisoncovid19tweets-donotdelete-pr-ltfnobw22qpnyw',\n 'asset_id': '812c712e-c408-48cd-b11f-c78e7a9e3b69'}"
                    },
                    "execution_count": 34,
                    "metadata": {},
                    "output_type": "execute_result"
                }
            ],
            "source": "project.save_data(file_name = \"WHO.csv\",data = df_data_4.to_csv(index=False))"
        },
        {
            "cell_type": "code",
            "execution_count": 36,
            "metadata": {},
            "outputs": [],
            "source": "\nbody = client_e61e5cd54c4943d386135128bb93cee8.get_object(Bucket='sentimentanalysisoncovid19tweets-donotdelete-pr-ltfnobw22qpnyw',Key='World Health Organisation_data2.json')['Body']\n# add missing __iter__ method, so pandas accepts body as file-like object \n\nif not hasattr(body, \"__iter__\"): body.__iter__ = types.MethodType( __iter__, body )\n\n# Since JSON data can be semi-structured and contain additional metadata, it is possible that you might face an error during data loading.\n# Please read the documentation of 'pandas.read_json()' and 'pandas.io.json.json_normalize' to learn more about the possibilities to adjust the data loading.\n# pandas documentation: http://pandas.pydata.org/pandas-docs/stable/io.html#io-json-reader\n# and http://pandas.pydata.org/pandas-docs/stable/generated/pandas.io.json.json_normalize.html\n\ndf_data_5 = pd.read_json(body, orient='values')\n# df_data_5.head()\n"
        },
        {
            "cell_type": "code",
            "execution_count": 37,
            "metadata": {},
            "outputs": [
                {
                    "data": {
                        "text/plain": "{'file_name': 'World_Health.csv',\n 'message': 'File saved to project storage.',\n 'bucket_name': 'sentimentanalysisoncovid19tweets-donotdelete-pr-ltfnobw22qpnyw',\n 'asset_id': 'fa6097a9-ecfd-4331-860f-85982e317f68'}"
                    },
                    "execution_count": 37,
                    "metadata": {},
                    "output_type": "execute_result"
                }
            ],
            "source": "project.save_data(file_name = \"World_Health.csv\",data = df_data_5.to_csv(index=False))"
        },
        {
            "cell_type": "code",
            "execution_count": 38,
            "metadata": {},
            "outputs": [],
            "source": "\nbody = client_e61e5cd54c4943d386135128bb93cee8.get_object(Bucket='sentimentanalysisoncovid19tweets-donotdelete-pr-ltfnobw22qpnyw',Key='corona virus_data.json')['Body']\n# add missing __iter__ method, so pandas accepts body as file-like object \n\nif not hasattr(body, \"__iter__\"): body.__iter__ = types.MethodType( __iter__, body )\n\n# Since JSON data can be semi-structured and contain additional metadata, it is possible that you might face an error during data loading.\n# Please read the documentation of 'pandas.read_json()' and 'pandas.io.json.json_normalize' to learn more about the possibilities to adjust the data loading.\n# pandas documentation: http://pandas.pydata.org/pandas-docs/stable/io.html#io-json-reader\n# and http://pandas.pydata.org/pandas-docs/stable/generated/pandas.io.json.json_normalize.html\n\ndf_data_6 = pd.read_json(body, orient='values')\n# df_data_6.head()\n"
        },
        {
            "cell_type": "code",
            "execution_count": 39,
            "metadata": {},
            "outputs": [
                {
                    "data": {
                        "text/plain": "{'file_name': 'corona_virus.csv',\n 'message': 'File saved to project storage.',\n 'bucket_name': 'sentimentanalysisoncovid19tweets-donotdelete-pr-ltfnobw22qpnyw',\n 'asset_id': 'fff04133-2112-43ab-ae48-7482edb8fec8'}"
                    },
                    "execution_count": 39,
                    "metadata": {},
                    "output_type": "execute_result"
                }
            ],
            "source": "project.save_data(file_name = \"corona_virus.csv\",data = df_data_1.to_csv(index=False))"
        },
        {
            "cell_type": "code",
            "execution_count": 40,
            "metadata": {},
            "outputs": [],
            "source": "\nbody = client_e61e5cd54c4943d386135128bb93cee8.get_object(Bucket='sentimentanalysisoncovid19tweets-donotdelete-pr-ltfnobw22qpnyw',Key='corona_data.json')['Body']\n# add missing __iter__ method, so pandas accepts body as file-like object \n\nif not hasattr(body, \"__iter__\"): body.__iter__ = types.MethodType( __iter__, body )\n\n# Since JSON data can be semi-structured and contain additional metadata, it is possible that you might face an error during data loading.\n# Please read the documentation of 'pandas.read_json()' and 'pandas.io.json.json_normalize' to learn more about the possibilities to adjust the data loading.\n# pandas documentation: http://pandas.pydata.org/pandas-docs/stable/io.html#io-json-reader\n# and http://pandas.pydata.org/pandas-docs/stable/generated/pandas.io.json.json_normalize.html\n\ndf_data_7 = pd.read_json(body, orient='values')\n# df_data_7.head()\n"
        },
        {
            "cell_type": "code",
            "execution_count": 41,
            "metadata": {},
            "outputs": [
                {
                    "data": {
                        "text/plain": "{'file_name': 'corona.csv',\n 'message': 'File saved to project storage.',\n 'bucket_name': 'sentimentanalysisoncovid19tweets-donotdelete-pr-ltfnobw22qpnyw',\n 'asset_id': '8daec229-3400-4271-8a5c-fff1b262d8bf'}"
                    },
                    "execution_count": 41,
                    "metadata": {},
                    "output_type": "execute_result"
                }
            ],
            "source": "project.save_data(file_name = \"corona.csv\",data = df_data_7.to_csv(index=False))"
        },
        {
            "cell_type": "code",
            "execution_count": 42,
            "metadata": {},
            "outputs": [],
            "source": "\nbody = client_e61e5cd54c4943d386135128bb93cee8.get_object(Bucket='sentimentanalysisoncovid19tweets-donotdelete-pr-ltfnobw22qpnyw',Key='covid-19 cure_data3.json')['Body']\n# add missing __iter__ method, so pandas accepts body as file-like object \n\nif not hasattr(body, \"__iter__\"): body.__iter__ = types.MethodType( __iter__, body )\n\n# Since JSON data can be semi-structured and contain additional metadata, it is possible that you might face an error during data loading.\n# Please read the documentation of 'pandas.read_json()' and 'pandas.io.json.json_normalize' to learn more about the possibilities to adjust the data loading.\n# pandas documentation: http://pandas.pydata.org/pandas-docs/stable/io.html#io-json-reader\n# and http://pandas.pydata.org/pandas-docs/stable/generated/pandas.io.json.json_normalize.html\n\ndf_data_8 = pd.read_json(body, orient='values')\n# df_data_8.head()\n"
        },
        {
            "cell_type": "code",
            "execution_count": 44,
            "metadata": {},
            "outputs": [
                {
                    "data": {
                        "text/plain": "{'file_name': 'covid-19 cure.csv',\n 'message': 'File saved to project storage.',\n 'bucket_name': 'sentimentanalysisoncovid19tweets-donotdelete-pr-ltfnobw22qpnyw',\n 'asset_id': 'ef9fa91b-7933-479d-a9a6-bd93026f09ba'}"
                    },
                    "execution_count": 44,
                    "metadata": {},
                    "output_type": "execute_result"
                }
            ],
            "source": "project.save_data(file_name = \"covid-19 cure.csv\",data = df_data_8.to_csv(index=False))"
        },
        {
            "cell_type": "code",
            "execution_count": 45,
            "metadata": {},
            "outputs": [],
            "source": "\nbody = client_e61e5cd54c4943d386135128bb93cee8.get_object(Bucket='sentimentanalysisoncovid19tweets-donotdelete-pr-ltfnobw22qpnyw',Key='covid-19 vaccine_data3.json')['Body']\n# add missing __iter__ method, so pandas accepts body as file-like object \n\nif not hasattr(body, \"__iter__\"): body.__iter__ = types.MethodType( __iter__, body )\n\n# Since JSON data can be semi-structured and contain additional metadata, it is possible that you might face an error during data loading.\n# Please read the documentation of 'pandas.read_json()' and 'pandas.io.json.json_normalize' to learn more about the possibilities to adjust the data loading.\n# pandas documentation: http://pandas.pydata.org/pandas-docs/stable/io.html#io-json-reader\n# and http://pandas.pydata.org/pandas-docs/stable/generated/pandas.io.json.json_normalize.html\n\ndf_data_9 = pd.read_json(body, orient='values')\n# df_data_9.head()\n"
        },
        {
            "cell_type": "code",
            "execution_count": 46,
            "metadata": {},
            "outputs": [
                {
                    "data": {
                        "text/plain": "{'file_name': 'covid-19 vaccine.csv',\n 'message': 'File saved to project storage.',\n 'bucket_name': 'sentimentanalysisoncovid19tweets-donotdelete-pr-ltfnobw22qpnyw',\n 'asset_id': '16b71fa5-6e4d-432f-8d7f-98f9f7460506'}"
                    },
                    "execution_count": 46,
                    "metadata": {},
                    "output_type": "execute_result"
                }
            ],
            "source": "project.save_data(file_name = \"covid-19 vaccine.csv\",data = df_data_9.to_csv(index=False))"
        },
        {
            "cell_type": "code",
            "execution_count": 47,
            "metadata": {},
            "outputs": [],
            "source": "\nbody = client_e61e5cd54c4943d386135128bb93cee8.get_object(Bucket='sentimentanalysisoncovid19tweets-donotdelete-pr-ltfnobw22qpnyw',Key='covid-19_data.json')['Body']\n# add missing __iter__ method, so pandas accepts body as file-like object \n\nif not hasattr(body, \"__iter__\"): body.__iter__ = types.MethodType( __iter__, body )\n\n# Since JSON data can be semi-structured and contain additional metadata, it is possible that you might face an error during data loading.\n# Please read the documentation of 'pandas.read_json()' and 'pandas.io.json.json_normalize' to learn more about the possibilities to adjust the data loading.\n# pandas documentation: http://pandas.pydata.org/pandas-docs/stable/io.html#io-json-reader\n# and http://pandas.pydata.org/pandas-docs/stable/generated/pandas.io.json.json_normalize.html\n\ndf_data_10 = pd.read_json(body, orient='values')\n# df_data_10.head()\n"
        },
        {
            "cell_type": "code",
            "execution_count": 49,
            "metadata": {},
            "outputs": [
                {
                    "data": {
                        "text/plain": "{'file_name': 'covid-19.csv',\n 'message': 'File saved to project storage.',\n 'bucket_name': 'sentimentanalysisoncovid19tweets-donotdelete-pr-ltfnobw22qpnyw',\n 'asset_id': '51f96bd0-9b30-495c-ac3a-d10e9a2f40bf'}"
                    },
                    "execution_count": 49,
                    "metadata": {},
                    "output_type": "execute_result"
                }
            ],
            "source": "project.save_data(file_name = \"covid-19.csv\",data = df_data_10.to_csv(index=False),overwrite=True)"
        },
        {
            "cell_type": "code",
            "execution_count": 50,
            "metadata": {},
            "outputs": [],
            "source": "\nbody = client_e61e5cd54c4943d386135128bb93cee8.get_object(Bucket='sentimentanalysisoncovid19tweets-donotdelete-pr-ltfnobw22qpnyw',Key='cure_data3.json')['Body']\n# add missing __iter__ method, so pandas accepts body as file-like object \n\nif not hasattr(body, \"__iter__\"): body.__iter__ = types.MethodType( __iter__, body )\n\n# Since JSON data can be semi-structured and contain additional metadata, it is possible that you might face an error during data loading.\n# Please read the documentation of 'pandas.read_json()' and 'pandas.io.json.json_normalize' to learn more about the possibilities to adjust the data loading.\n# pandas documentation: http://pandas.pydata.org/pandas-docs/stable/io.html#io-json-reader\n# and http://pandas.pydata.org/pandas-docs/stable/generated/pandas.io.json.json_normalize.html\n\ndf_data_11 = pd.read_json(body, orient='values')\n# df_data_11.head()\n"
        },
        {
            "cell_type": "code",
            "execution_count": 51,
            "metadata": {},
            "outputs": [
                {
                    "data": {
                        "text/plain": "{'file_name': 'cure.csv',\n 'message': 'File saved to project storage.',\n 'bucket_name': 'sentimentanalysisoncovid19tweets-donotdelete-pr-ltfnobw22qpnyw',\n 'asset_id': '45fb9f11-825d-42c1-9c11-7a79dfa05e65'}"
                    },
                    "execution_count": 51,
                    "metadata": {},
                    "output_type": "execute_result"
                }
            ],
            "source": "project.save_data(file_name = \"cure.csv\",data = df_data_11.to_csv(index=False))"
        },
        {
            "cell_type": "code",
            "execution_count": 52,
            "metadata": {},
            "outputs": [],
            "source": "\nbody = client_e61e5cd54c4943d386135128bb93cee8.get_object(Bucket='sentimentanalysisoncovid19tweets-donotdelete-pr-ltfnobw22qpnyw',Key='fake news_data3.json')['Body']\n# add missing __iter__ method, so pandas accepts body as file-like object \n\nif not hasattr(body, \"__iter__\"): body.__iter__ = types.MethodType( __iter__, body )\n\n# Since JSON data can be semi-structured and contain additional metadata, it is possible that you might face an error during data loading.\n# Please read the documentation of 'pandas.read_json()' and 'pandas.io.json.json_normalize' to learn more about the possibilities to adjust the data loading.\n# pandas documentation: http://pandas.pydata.org/pandas-docs/stable/io.html#io-json-reader\n# and http://pandas.pydata.org/pandas-docs/stable/generated/pandas.io.json.json_normalize.html\n\ndf_data_12 = pd.read_json(body, orient='values')\n# df_data_12.head()\n"
        },
        {
            "cell_type": "code",
            "execution_count": 53,
            "metadata": {},
            "outputs": [
                {
                    "data": {
                        "text/plain": "{'file_name': 'fake news.csv',\n 'message': 'File saved to project storage.',\n 'bucket_name': 'sentimentanalysisoncovid19tweets-donotdelete-pr-ltfnobw22qpnyw',\n 'asset_id': 'e7cfccab-4561-4e2a-ae48-e067c0b840bb'}"
                    },
                    "execution_count": 53,
                    "metadata": {},
                    "output_type": "execute_result"
                }
            ],
            "source": "project.save_data(file_name = \"fake news.csv\",data = df_data_12.to_csv(index=False))"
        },
        {
            "cell_type": "code",
            "execution_count": 54,
            "metadata": {},
            "outputs": [],
            "source": "\nbody = client_e61e5cd54c4943d386135128bb93cee8.get_object(Bucket='sentimentanalysisoncovid19tweets-donotdelete-pr-ltfnobw22qpnyw',Key='vaccine_data3.json')['Body']\n# add missing __iter__ method, so pandas accepts body as file-like object \n\nif not hasattr(body, \"__iter__\"): body.__iter__ = types.MethodType( __iter__, body )\n\n# Since JSON data can be semi-structured and contain additional metadata, it is possible that you might face an error during data loading.\n# Please read the documentation of 'pandas.read_json()' and 'pandas.io.json.json_normalize' to learn more about the possibilities to adjust the data loading.\n# pandas documentation: http://pandas.pydata.org/pandas-docs/stable/io.html#io-json-reader\n# and http://pandas.pydata.org/pandas-docs/stable/generated/pandas.io.json.json_normalize.html\n\ndf_data_13 = pd.read_json(body, orient='values')\n# df_data_13.head()\n"
        },
        {
            "cell_type": "code",
            "execution_count": 55,
            "metadata": {},
            "outputs": [
                {
                    "data": {
                        "text/plain": "{'file_name': 'vaccine.csv',\n 'message': 'File saved to project storage.',\n 'bucket_name': 'sentimentanalysisoncovid19tweets-donotdelete-pr-ltfnobw22qpnyw',\n 'asset_id': '35c1693a-b61b-49ad-8fe5-59b21296d12b'}"
                    },
                    "execution_count": 55,
                    "metadata": {},
                    "output_type": "execute_result"
                }
            ],
            "source": "project.save_data(file_name = \"vaccine.csv\",data = df_data_13.to_csv(index=False))"
        },
        {
            "cell_type": "code",
            "execution_count": 13,
            "metadata": {},
            "outputs": [
                {
                    "ename": "NameError",
                    "evalue": "name 'client_e61e5cd54c4943d386135128bb93cee8' is not defined",
                    "output_type": "error",
                    "traceback": [
                        "\u001b[0;31m---------------------------------------------------------------------------\u001b[0m",
                        "\u001b[0;31mNameError\u001b[0m                                 Traceback (most recent call last)",
                        "\u001b[0;32m<ipython-input-13-18676058696f>\u001b[0m in \u001b[0;36m<module>\u001b[0;34m\u001b[0m\n\u001b[1;32m      1\u001b[0m \u001b[0;34m\u001b[0m\u001b[0m\n\u001b[0;32m----> 2\u001b[0;31m \u001b[0mbody\u001b[0m \u001b[0;34m=\u001b[0m \u001b[0mclient_e61e5cd54c4943d386135128bb93cee8\u001b[0m\u001b[0;34m.\u001b[0m\u001b[0mget_object\u001b[0m\u001b[0;34m(\u001b[0m\u001b[0mBucket\u001b[0m\u001b[0;34m=\u001b[0m\u001b[0;34m'sentimentanalysisoncovid19tweets-donotdelete-pr-ltfnobw22qpnyw'\u001b[0m\u001b[0;34m,\u001b[0m\u001b[0mKey\u001b[0m\u001b[0;34m=\u001b[0m\u001b[0;34m'covid-19_data.json'\u001b[0m\u001b[0;34m)\u001b[0m\u001b[0;34m[\u001b[0m\u001b[0;34m'Body'\u001b[0m\u001b[0;34m]\u001b[0m\u001b[0;34m\u001b[0m\u001b[0;34m\u001b[0m\u001b[0m\n\u001b[0m\u001b[1;32m      3\u001b[0m \u001b[0;31m# add missing __iter__ method, so pandas accepts body as file-like object\u001b[0m\u001b[0;34m\u001b[0m\u001b[0;34m\u001b[0m\u001b[0;34m\u001b[0m\u001b[0m\n\u001b[1;32m      4\u001b[0m \u001b[0;34m\u001b[0m\u001b[0m\n\u001b[1;32m      5\u001b[0m \u001b[0;32mif\u001b[0m \u001b[0;32mnot\u001b[0m \u001b[0mhasattr\u001b[0m\u001b[0;34m(\u001b[0m\u001b[0mbody\u001b[0m\u001b[0;34m,\u001b[0m \u001b[0;34m\"__iter__\"\u001b[0m\u001b[0;34m)\u001b[0m\u001b[0;34m:\u001b[0m \u001b[0mbody\u001b[0m\u001b[0;34m.\u001b[0m\u001b[0m__iter__\u001b[0m \u001b[0;34m=\u001b[0m \u001b[0mtypes\u001b[0m\u001b[0;34m.\u001b[0m\u001b[0mMethodType\u001b[0m\u001b[0;34m(\u001b[0m \u001b[0m__iter__\u001b[0m\u001b[0;34m,\u001b[0m \u001b[0mbody\u001b[0m \u001b[0;34m)\u001b[0m\u001b[0;34m\u001b[0m\u001b[0;34m\u001b[0m\u001b[0m\n",
                        "\u001b[0;31mNameError\u001b[0m: name 'client_e61e5cd54c4943d386135128bb93cee8' is not defined"
                    ]
                }
            ],
            "source": "\nbody = client_e61e5cd54c4943d386135128bb93cee8.get_object(Bucket='sentimentanalysisoncovid19tweets-donotdelete-pr-ltfnobw22qpnyw',Key='covid-19_data.json')['Body']\n# add missing __iter__ method, so pandas accepts body as file-like object \n\nif not hasattr(body, \"__iter__\"): body.__iter__ = types.MethodType( __iter__, body )\n\n# Since JSON data can be semi-structured and contain additional metadata, it is possible that you might face an error during data loading.\n# Please read the documentation of 'pandas.read_json()' and 'pandas.io.json.json_normalize' to learn more about the possibilities to adjust the data loading.\n# pandas documentation: http://pandas.pydata.org/pandas-docs/stable/io.html#io-json-reader\n# and http://pandas.pydata.org/pandas-docs/stable/generated/pandas.io.json.json_normalize.html\n\ndf_data_17 = pd.read_json(body, orient='values')\n# df_data_17.head()\n"
        },
        {
            "cell_type": "code",
            "execution_count": null,
            "metadata": {},
            "outputs": [],
            "source": ""
        }
    ],
    "metadata": {
        "kernelspec": {
            "display_name": "Python 3.6",
            "language": "python",
            "name": "python3"
        },
        "language_info": {
            "codemirror_mode": {
                "name": "ipython",
                "version": 3
            },
            "file_extension": ".py",
            "mimetype": "text/x-python",
            "name": "python",
            "nbconvert_exporter": "python",
            "pygments_lexer": "ipython3",
            "version": "3.6.9"
        }
    },
    "nbformat": 4,
    "nbformat_minor": 1
}